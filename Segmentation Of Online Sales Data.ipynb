{
 "cells": [
  {
   "cell_type": "markdown",
   "id": "7636070b",
   "metadata": {},
   "source": [
    "# Segmentation Of Online Sales Data\n",
    "\n",
    "#### This notebook is final part of the research conducted on the IEEE Paper Machine Learning approach to study and segment customers of online sales data for better and efficient marketing purposes. The previous part of the first set of pre-processing from a huge data can be referred to another notebook. In this notebook we are going to pre-process, visualize and study before classifying them to find meaningful customer segments using 4 Machine Learning Algorithms (K - Means, Agglomerative, Mean Shift and DBSCAN)."
   ]
  },
  {
   "cell_type": "code",
   "execution_count": 1,
   "id": "3a9c4253",
   "metadata": {},
   "outputs": [],
   "source": [
    "import pandas as pd\n",
    "import numpy as np\n",
    "import matplotlib.pyplot as plt\n",
    "import seaborn as sns\n",
    "%matplotlib inline"
   ]
  },
  {
   "cell_type": "code",
   "execution_count": 2,
   "id": "7f5c3d28",
   "metadata": {},
   "outputs": [
    {
     "data": {
      "text/html": [
       "<div>\n",
       "<style scoped>\n",
       "    .dataframe tbody tr th:only-of-type {\n",
       "        vertical-align: middle;\n",
       "    }\n",
       "\n",
       "    .dataframe tbody tr th {\n",
       "        vertical-align: top;\n",
       "    }\n",
       "\n",
       "    .dataframe thead th {\n",
       "        text-align: right;\n",
       "    }\n",
       "</style>\n",
       "<table border=\"1\" class=\"dataframe\">\n",
       "  <thead>\n",
       "    <tr style=\"text-align: right;\">\n",
       "      <th></th>\n",
       "      <th>Unnamed: 0</th>\n",
       "      <th>Name</th>\n",
       "      <th>age</th>\n",
       "      <th>degree</th>\n",
       "      <th>salary</th>\n",
       "      <th>experience</th>\n",
       "    </tr>\n",
       "  </thead>\n",
       "  <tbody>\n",
       "    <tr>\n",
       "      <th>0</th>\n",
       "      <td>4</td>\n",
       "      <td>Rajendran ramaiyan</td>\n",
       "      <td>54</td>\n",
       "      <td>BACHELORS</td>\n",
       "      <td>1500000</td>\n",
       "      <td>240</td>\n",
       "    </tr>\n",
       "    <tr>\n",
       "      <th>1</th>\n",
       "      <td>6</td>\n",
       "      <td>Krishan kumar</td>\n",
       "      <td>36</td>\n",
       "      <td>BACHELORS</td>\n",
       "      <td>3840000</td>\n",
       "      <td>81</td>\n",
       "    </tr>\n",
       "    <tr>\n",
       "      <th>2</th>\n",
       "      <td>7</td>\n",
       "      <td>Dhanush kumar</td>\n",
       "      <td>23</td>\n",
       "      <td>BACHELORS</td>\n",
       "      <td>180000</td>\n",
       "      <td>1</td>\n",
       "    </tr>\n",
       "    <tr>\n",
       "      <th>3</th>\n",
       "      <td>10</td>\n",
       "      <td>Krishna kumar</td>\n",
       "      <td>36</td>\n",
       "      <td>BACHELORS</td>\n",
       "      <td>9157500</td>\n",
       "      <td>104</td>\n",
       "    </tr>\n",
       "    <tr>\n",
       "      <th>4</th>\n",
       "      <td>11</td>\n",
       "      <td>Deepa shankar</td>\n",
       "      <td>46</td>\n",
       "      <td>OTHERS</td>\n",
       "      <td>2660000</td>\n",
       "      <td>204</td>\n",
       "    </tr>\n",
       "  </tbody>\n",
       "</table>\n",
       "</div>"
      ],
      "text/plain": [
       "   Unnamed: 0                 Name  age     degree   salary  experience\n",
       "0           4  Rajendran ramaiyan    54  BACHELORS  1500000         240\n",
       "1           6       Krishan kumar    36  BACHELORS  3840000          81\n",
       "2           7       Dhanush kumar    23  BACHELORS   180000           1\n",
       "3          10       Krishna kumar    36  BACHELORS  9157500         104\n",
       "4          11       Deepa shankar    46     OTHERS  2660000         204"
      ]
     },
     "execution_count": 2,
     "metadata": {},
     "output_type": "execute_result"
    }
   ],
   "source": [
    "df = pd.read_csv(\"online_leads.csv\")\n",
    "df.head()"
   ]
  },
  {
   "cell_type": "code",
   "execution_count": 3,
   "id": "a69d754a",
   "metadata": {},
   "outputs": [],
   "source": [
    "# Name is not needed for analysis purposes, so we can remove it\n",
    "df.drop('Unnamed: 0', axis = 1, inplace = True)"
   ]
  },
  {
   "cell_type": "code",
   "execution_count": 4,
   "id": "1a0c88ff",
   "metadata": {},
   "outputs": [
    {
     "data": {
      "text/html": [
       "<div>\n",
       "<style scoped>\n",
       "    .dataframe tbody tr th:only-of-type {\n",
       "        vertical-align: middle;\n",
       "    }\n",
       "\n",
       "    .dataframe tbody tr th {\n",
       "        vertical-align: top;\n",
       "    }\n",
       "\n",
       "    .dataframe thead th {\n",
       "        text-align: right;\n",
       "    }\n",
       "</style>\n",
       "<table border=\"1\" class=\"dataframe\">\n",
       "  <thead>\n",
       "    <tr style=\"text-align: right;\">\n",
       "      <th></th>\n",
       "      <th>Name</th>\n",
       "      <th>age</th>\n",
       "      <th>degree</th>\n",
       "      <th>salary</th>\n",
       "      <th>experience</th>\n",
       "    </tr>\n",
       "  </thead>\n",
       "  <tbody>\n",
       "    <tr>\n",
       "      <th>0</th>\n",
       "      <td>Rajendran ramaiyan</td>\n",
       "      <td>54</td>\n",
       "      <td>BACHELORS</td>\n",
       "      <td>1500000</td>\n",
       "      <td>240</td>\n",
       "    </tr>\n",
       "    <tr>\n",
       "      <th>1</th>\n",
       "      <td>Krishan kumar</td>\n",
       "      <td>36</td>\n",
       "      <td>BACHELORS</td>\n",
       "      <td>3840000</td>\n",
       "      <td>81</td>\n",
       "    </tr>\n",
       "    <tr>\n",
       "      <th>2</th>\n",
       "      <td>Dhanush kumar</td>\n",
       "      <td>23</td>\n",
       "      <td>BACHELORS</td>\n",
       "      <td>180000</td>\n",
       "      <td>1</td>\n",
       "    </tr>\n",
       "    <tr>\n",
       "      <th>3</th>\n",
       "      <td>Krishna kumar</td>\n",
       "      <td>36</td>\n",
       "      <td>BACHELORS</td>\n",
       "      <td>9157500</td>\n",
       "      <td>104</td>\n",
       "    </tr>\n",
       "    <tr>\n",
       "      <th>4</th>\n",
       "      <td>Deepa shankar</td>\n",
       "      <td>46</td>\n",
       "      <td>OTHERS</td>\n",
       "      <td>2660000</td>\n",
       "      <td>204</td>\n",
       "    </tr>\n",
       "  </tbody>\n",
       "</table>\n",
       "</div>"
      ],
      "text/plain": [
       "                  Name  age     degree   salary  experience\n",
       "0  Rajendran ramaiyan    54  BACHELORS  1500000         240\n",
       "1       Krishan kumar    36  BACHELORS  3840000          81\n",
       "2       Dhanush kumar    23  BACHELORS   180000           1\n",
       "3       Krishna kumar    36  BACHELORS  9157500         104\n",
       "4       Deepa shankar    46     OTHERS  2660000         204"
      ]
     },
     "execution_count": 4,
     "metadata": {},
     "output_type": "execute_result"
    }
   ],
   "source": [
    "df.head()"
   ]
  },
  {
   "cell_type": "code",
   "execution_count": 5,
   "id": "c5e656a5",
   "metadata": {},
   "outputs": [
    {
     "data": {
      "text/html": [
       "<div>\n",
       "<style scoped>\n",
       "    .dataframe tbody tr th:only-of-type {\n",
       "        vertical-align: middle;\n",
       "    }\n",
       "\n",
       "    .dataframe tbody tr th {\n",
       "        vertical-align: top;\n",
       "    }\n",
       "\n",
       "    .dataframe thead th {\n",
       "        text-align: right;\n",
       "    }\n",
       "</style>\n",
       "<table border=\"1\" class=\"dataframe\">\n",
       "  <thead>\n",
       "    <tr style=\"text-align: right;\">\n",
       "      <th></th>\n",
       "      <th>count</th>\n",
       "      <th>mean</th>\n",
       "      <th>std</th>\n",
       "      <th>min</th>\n",
       "      <th>25%</th>\n",
       "      <th>50%</th>\n",
       "      <th>75%</th>\n",
       "      <th>max</th>\n",
       "    </tr>\n",
       "  </thead>\n",
       "  <tbody>\n",
       "    <tr>\n",
       "      <th>age</th>\n",
       "      <td>3107.0</td>\n",
       "      <td>3.474960e+01</td>\n",
       "      <td>9.138858e+00</td>\n",
       "      <td>1.0</td>\n",
       "      <td>29.0</td>\n",
       "      <td>34.0</td>\n",
       "      <td>40.0</td>\n",
       "      <td>71.0</td>\n",
       "    </tr>\n",
       "    <tr>\n",
       "      <th>salary</th>\n",
       "      <td>3107.0</td>\n",
       "      <td>2.352315e+06</td>\n",
       "      <td>5.629336e+06</td>\n",
       "      <td>5000.0</td>\n",
       "      <td>360000.0</td>\n",
       "      <td>770000.0</td>\n",
       "      <td>1700000.0</td>\n",
       "      <td>102000000.0</td>\n",
       "    </tr>\n",
       "    <tr>\n",
       "      <th>experience</th>\n",
       "      <td>3107.0</td>\n",
       "      <td>1.204110e+02</td>\n",
       "      <td>7.846839e+01</td>\n",
       "      <td>0.0</td>\n",
       "      <td>60.0</td>\n",
       "      <td>109.0</td>\n",
       "      <td>168.0</td>\n",
       "      <td>516.0</td>\n",
       "    </tr>\n",
       "  </tbody>\n",
       "</table>\n",
       "</div>"
      ],
      "text/plain": [
       "             count          mean           std     min       25%       50%  \\\n",
       "age         3107.0  3.474960e+01  9.138858e+00     1.0      29.0      34.0   \n",
       "salary      3107.0  2.352315e+06  5.629336e+06  5000.0  360000.0  770000.0   \n",
       "experience  3107.0  1.204110e+02  7.846839e+01     0.0      60.0     109.0   \n",
       "\n",
       "                  75%          max  \n",
       "age              40.0         71.0  \n",
       "salary      1700000.0  102000000.0  \n",
       "experience      168.0        516.0  "
      ]
     },
     "execution_count": 5,
     "metadata": {},
     "output_type": "execute_result"
    }
   ],
   "source": [
    "df.describe().transpose()"
   ]
  },
  {
   "cell_type": "code",
   "execution_count": 6,
   "id": "23b73c8d",
   "metadata": {},
   "outputs": [
    {
     "name": "stdout",
     "output_type": "stream",
     "text": [
      "<class 'pandas.core.frame.DataFrame'>\n",
      "RangeIndex: 3107 entries, 0 to 3106\n",
      "Data columns (total 5 columns):\n",
      " #   Column      Non-Null Count  Dtype \n",
      "---  ------      --------------  ----- \n",
      " 0   Name        3107 non-null   object\n",
      " 1   age         3107 non-null   int64 \n",
      " 2   degree      3107 non-null   object\n",
      " 3   salary      3107 non-null   int64 \n",
      " 4   experience  3107 non-null   int64 \n",
      "dtypes: int64(3), object(2)\n",
      "memory usage: 121.5+ KB\n"
     ]
    }
   ],
   "source": [
    "df.info()"
   ]
  },
  {
   "cell_type": "markdown",
   "id": "9d925815",
   "metadata": {},
   "source": [
    "## Data Visualization"
   ]
  },
  {
   "cell_type": "code",
   "execution_count": 7,
   "id": "ede2944a",
   "metadata": {},
   "outputs": [
    {
     "data": {
      "image/png": "[encoded data removed]",
      "text/plain": [
       "<Figure size 1080x432 with 3 Axes>"
      ]
     },
     "metadata": {
      "needs_background": "light"
     },
     "output_type": "display_data"
    }
   ],
   "source": [
    "plt.figure(1 , figsize = (15 , 6))\n",
    "n = 0 \n",
    "for col in ['age' , 'salary' , 'experience']:\n",
    "    n += 1\n",
    "    plt.subplot(1 , 3 , n)\n",
    "    plt.subplots_adjust(hspace =0.5 , wspace = 0.5)\n",
    "    sns.histplot(data=df, x=col, bins = 20, kde=True)\n",
    "    plt.title('Histplot of {}'.format(col))\n",
    "plt.show()"
   ]
  },
  {
   "cell_type": "markdown",
   "id": "cb6dae0e",
   "metadata": {},
   "source": [
    "* We can see much of the distribution of the data is centered meaning most of them fall in the major crisis."
   ]
  },
  {
   "cell_type": "code",
   "execution_count": 8,
   "id": "22199aac",
   "metadata": {},
   "outputs": [
    {
     "data": {
      "text/plain": [
       "[]"
      ]
     },
     "execution_count": 8,
     "metadata": {},
     "output_type": "execute_result"
    },
    {
     "data": {
      "image/png": "[encoded data removed]",
      "text/plain": [
       "<Figure size 432x288 with 1 Axes>"
      ]
     },
     "metadata": {
      "needs_background": "light"
     },
     "output_type": "display_data"
    }
   ],
   "source": [
    "plt.title(\"Salary Vs Experience\")\n",
    "sns.scatterplot(data=df, x=\"experience\", y=\"salary\")\n",
    "plt.plot()"
   ]
  },
  {
   "cell_type": "code",
   "execution_count": 9,
   "id": "724d6334",
   "metadata": {},
   "outputs": [
    {
     "data": {
      "text/plain": [
       "<AxesSubplot:xlabel='degree', ylabel='count'>"
      ]
     },
     "execution_count": 9,
     "metadata": {},
     "output_type": "execute_result"
    },
    {
     "data": {
      "image/png": "[encoded data removed]",
      "text/plain": [
       "<Figure size 1080x432 with 1 Axes>"
      ]
     },
     "metadata": {
      "needs_background": "light"
     },
     "output_type": "display_data"
    }
   ],
   "source": [
    "plt.figure(1 , figsize = (15 , 6))\n",
    "sns.countplot(x=df['degree'])"
   ]
  },
  {
   "cell_type": "markdown",
   "id": "220274c7",
   "metadata": {},
   "source": [
    "###### Let's Check for some outliers in the data"
   ]
  },
  {
   "cell_type": "code",
   "execution_count": 10,
   "id": "d03c6f92",
   "metadata": {},
   "outputs": [
    {
     "data": {
      "text/plain": [
       "<AxesSubplot:xlabel='age'>"
      ]
     },
     "execution_count": 10,
     "metadata": {},
     "output_type": "execute_result"
    },
    {
     "data": {
      "image/png": "[encoded data removed]",
      "text/plain": [
       "<Figure size 432x288 with 1 Axes>"
      ]
     },
     "metadata": {
      "needs_background": "light"
     },
     "output_type": "display_data"
    }
   ],
   "source": [
    "sns.boxplot(x=df[\"age\"])"
   ]
  },
  {
   "cell_type": "code",
   "execution_count": 11,
   "id": "858016d9",
   "metadata": {},
   "outputs": [
    {
     "data": {
      "text/plain": [
       "<AxesSubplot:xlabel='salary'>"
      ]
     },
     "execution_count": 11,
     "metadata": {},
     "output_type": "execute_result"
    },
    {
     "data": {
      "image/png": "[encoded data removed]",
      "text/plain": [
       "<Figure size 432x288 with 1 Axes>"
      ]
     },
     "metadata": {
      "needs_background": "light"
     },
     "output_type": "display_data"
    }
   ],
   "source": [
    "sns.boxplot(x=df[\"salary\"])"
   ]
  },
  {
   "cell_type": "code",
   "execution_count": 12,
   "id": "26923fe7",
   "metadata": {},
   "outputs": [
    {
     "data": {
      "text/plain": [
       "<AxesSubplot:xlabel='experience'>"
      ]
     },
     "execution_count": 12,
     "metadata": {},
     "output_type": "execute_result"
    },
    {
     "data": {
      "image/png": "[encoded data removed]",
      "text/plain": [
       "<Figure size 432x288 with 1 Axes>"
      ]
     },
     "metadata": {
      "needs_background": "light"
     },
     "output_type": "display_data"
    }
   ],
   "source": [
    "sns.boxplot(x=df[\"experience\"])"
   ]
  },
  {
   "cell_type": "markdown",
   "id": "7a74fa79",
   "metadata": {},
   "source": [
    "* There are lot of outliers in the data which needed to be taken care of."
   ]
  },
  {
   "cell_type": "markdown",
   "id": "79876000",
   "metadata": {},
   "source": [
    "## Data Pre-Processing"
   ]
  },
  {
   "cell_type": "code",
   "execution_count": 13,
   "id": "024e1805",
   "metadata": {},
   "outputs": [
    {
     "data": {
      "text/html": [
       "<div>\n",
       "<style scoped>\n",
       "    .dataframe tbody tr th:only-of-type {\n",
       "        vertical-align: middle;\n",
       "    }\n",
       "\n",
       "    .dataframe tbody tr th {\n",
       "        vertical-align: top;\n",
       "    }\n",
       "\n",
       "    .dataframe thead th {\n",
       "        text-align: right;\n",
       "    }\n",
       "</style>\n",
       "<table border=\"1\" class=\"dataframe\">\n",
       "  <thead>\n",
       "    <tr style=\"text-align: right;\">\n",
       "      <th></th>\n",
       "      <th>Name</th>\n",
       "      <th>age</th>\n",
       "      <th>degree</th>\n",
       "      <th>salary</th>\n",
       "      <th>experience</th>\n",
       "    </tr>\n",
       "  </thead>\n",
       "  <tbody>\n",
       "    <tr>\n",
       "      <th>175</th>\n",
       "      <td>Naveen jai shathya</td>\n",
       "      <td>29</td>\n",
       "      <td>BACHELORS</td>\n",
       "      <td>15000</td>\n",
       "      <td>55</td>\n",
       "    </tr>\n",
       "    <tr>\n",
       "      <th>176</th>\n",
       "      <td>Ganeshkumar.m</td>\n",
       "      <td>28</td>\n",
       "      <td>BACHELORS</td>\n",
       "      <td>20000</td>\n",
       "      <td>46</td>\n",
       "    </tr>\n",
       "    <tr>\n",
       "      <th>193</th>\n",
       "      <td>Suriya rajavadivoo</td>\n",
       "      <td>25</td>\n",
       "      <td>BACHELORS</td>\n",
       "      <td>15000</td>\n",
       "      <td>9</td>\n",
       "    </tr>\n",
       "    <tr>\n",
       "      <th>197</th>\n",
       "      <td>Dhurai murugan. a</td>\n",
       "      <td>22</td>\n",
       "      <td>BACHELORS</td>\n",
       "      <td>5000</td>\n",
       "      <td>3</td>\n",
       "    </tr>\n",
       "    <tr>\n",
       "      <th>216</th>\n",
       "      <td>Karthik k</td>\n",
       "      <td>35</td>\n",
       "      <td>BACHELORS</td>\n",
       "      <td>80000</td>\n",
       "      <td>100</td>\n",
       "    </tr>\n",
       "    <tr>\n",
       "      <th>...</th>\n",
       "      <td>...</td>\n",
       "      <td>...</td>\n",
       "      <td>...</td>\n",
       "      <td>...</td>\n",
       "      <td>...</td>\n",
       "    </tr>\n",
       "    <tr>\n",
       "      <th>2633</th>\n",
       "      <td>Abhinab dutta gupta</td>\n",
       "      <td>27</td>\n",
       "      <td>BACHELORS</td>\n",
       "      <td>60000</td>\n",
       "      <td>5</td>\n",
       "    </tr>\n",
       "    <tr>\n",
       "      <th>2836</th>\n",
       "      <td>Siva paulsamy</td>\n",
       "      <td>33</td>\n",
       "      <td>BACHELORS</td>\n",
       "      <td>60000</td>\n",
       "      <td>133</td>\n",
       "    </tr>\n",
       "    <tr>\n",
       "      <th>2895</th>\n",
       "      <td>M.tamzharasan</td>\n",
       "      <td>26</td>\n",
       "      <td>BACHELORS</td>\n",
       "      <td>15000</td>\n",
       "      <td>31</td>\n",
       "    </tr>\n",
       "    <tr>\n",
       "      <th>2948</th>\n",
       "      <td>Karthikeyan narayanamoorthy</td>\n",
       "      <td>30</td>\n",
       "      <td>OTHERS</td>\n",
       "      <td>10000</td>\n",
       "      <td>24</td>\n",
       "    </tr>\n",
       "    <tr>\n",
       "      <th>2954</th>\n",
       "      <td>Sriram subramonian</td>\n",
       "      <td>45</td>\n",
       "      <td>MASTERS</td>\n",
       "      <td>35000</td>\n",
       "      <td>132</td>\n",
       "    </tr>\n",
       "  </tbody>\n",
       "</table>\n",
       "<p>65 rows × 5 columns</p>\n",
       "</div>"
      ],
      "text/plain": [
       "                              Name  age     degree  salary  experience\n",
       "175          Naveen jai shathya      29  BACHELORS   15000          55\n",
       "176                Ganeshkumar.m     28  BACHELORS   20000          46\n",
       "193            Suriya rajavadivoo    25  BACHELORS   15000           9\n",
       "197           Dhurai murugan. a      22  BACHELORS    5000           3\n",
       "216                     Karthik k    35  BACHELORS   80000         100\n",
       "...                            ...  ...        ...     ...         ...\n",
       "2633        Abhinab dutta gupta      27  BACHELORS   60000           5\n",
       "2836                Siva paulsamy    33  BACHELORS   60000         133\n",
       "2895               M.tamzharasan     26  BACHELORS   15000          31\n",
       "2948  Karthikeyan narayanamoorthy    30     OTHERS   10000          24\n",
       "2954           Sriram subramonian    45    MASTERS   35000         132\n",
       "\n",
       "[65 rows x 5 columns]"
      ]
     },
     "execution_count": 13,
     "metadata": {},
     "output_type": "execute_result"
    }
   ],
   "source": [
    "df[df['salary'] < 100000]"
   ]
  },
  {
   "cell_type": "markdown",
   "id": "0c9ac778",
   "metadata": {},
   "source": [
    "* Since the salary column is in huge amount we are bringing down the scale in ten thousands for visualisation\n"
   ]
  },
  {
   "cell_type": "code",
   "execution_count": 14,
   "id": "37748c95",
   "metadata": {},
   "outputs": [],
   "source": [
    "salaryTPA = []\n",
    "for salary in df['salary']:\n",
    "    salaryTPA.append(salary / 10000)"
   ]
  },
  {
   "cell_type": "code",
   "execution_count": 15,
   "id": "a60b233c",
   "metadata": {},
   "outputs": [
    {
     "data": {
      "text/html": [
       "<div>\n",
       "<style scoped>\n",
       "    .dataframe tbody tr th:only-of-type {\n",
       "        vertical-align: middle;\n",
       "    }\n",
       "\n",
       "    .dataframe tbody tr th {\n",
       "        vertical-align: top;\n",
       "    }\n",
       "\n",
       "    .dataframe thead th {\n",
       "        text-align: right;\n",
       "    }\n",
       "</style>\n",
       "<table border=\"1\" class=\"dataframe\">\n",
       "  <thead>\n",
       "    <tr style=\"text-align: right;\">\n",
       "      <th></th>\n",
       "      <th>Name</th>\n",
       "      <th>age</th>\n",
       "      <th>degree</th>\n",
       "      <th>salary</th>\n",
       "      <th>experience</th>\n",
       "      <th>salaryTPA</th>\n",
       "    </tr>\n",
       "  </thead>\n",
       "  <tbody>\n",
       "    <tr>\n",
       "      <th>0</th>\n",
       "      <td>Rajendran ramaiyan</td>\n",
       "      <td>54</td>\n",
       "      <td>BACHELORS</td>\n",
       "      <td>1500000</td>\n",
       "      <td>240</td>\n",
       "      <td>150.00</td>\n",
       "    </tr>\n",
       "    <tr>\n",
       "      <th>1</th>\n",
       "      <td>Krishan kumar</td>\n",
       "      <td>36</td>\n",
       "      <td>BACHELORS</td>\n",
       "      <td>3840000</td>\n",
       "      <td>81</td>\n",
       "      <td>384.00</td>\n",
       "    </tr>\n",
       "    <tr>\n",
       "      <th>2</th>\n",
       "      <td>Dhanush kumar</td>\n",
       "      <td>23</td>\n",
       "      <td>BACHELORS</td>\n",
       "      <td>180000</td>\n",
       "      <td>1</td>\n",
       "      <td>18.00</td>\n",
       "    </tr>\n",
       "    <tr>\n",
       "      <th>3</th>\n",
       "      <td>Krishna kumar</td>\n",
       "      <td>36</td>\n",
       "      <td>BACHELORS</td>\n",
       "      <td>9157500</td>\n",
       "      <td>104</td>\n",
       "      <td>915.75</td>\n",
       "    </tr>\n",
       "    <tr>\n",
       "      <th>4</th>\n",
       "      <td>Deepa shankar</td>\n",
       "      <td>46</td>\n",
       "      <td>OTHERS</td>\n",
       "      <td>2660000</td>\n",
       "      <td>204</td>\n",
       "      <td>266.00</td>\n",
       "    </tr>\n",
       "  </tbody>\n",
       "</table>\n",
       "</div>"
      ],
      "text/plain": [
       "                  Name  age     degree   salary  experience  salaryTPA\n",
       "0  Rajendran ramaiyan    54  BACHELORS  1500000         240     150.00\n",
       "1       Krishan kumar    36  BACHELORS  3840000          81     384.00\n",
       "2       Dhanush kumar    23  BACHELORS   180000           1      18.00\n",
       "3       Krishna kumar    36  BACHELORS  9157500         104     915.75\n",
       "4       Deepa shankar    46     OTHERS  2660000         204     266.00"
      ]
     },
     "execution_count": 15,
     "metadata": {},
     "output_type": "execute_result"
    }
   ],
   "source": [
    "df['salaryTPA'] = salaryTPA\n",
    "df.head()"
   ]
  },
  {
   "cell_type": "markdown",
   "id": "eec6c467",
   "metadata": {},
   "source": [
    "* Since degree is a categorical data and has multiple data we can rank the degree based on the below format\n",
    "'''\n",
    "PHd = 5\n",
    "Masters = 4\n",
    "CA = 3.8\n",
    "Bachelors = 3\n",
    "Diploma = 2\n",
    "Twelth = 1.5\n",
    "Tenth = 1\n",
    "Encode Others = 2.5 (between Diploma and Bachelors) as I seen in the data manually they could be diploma holders or bachelors\n",
    "'''"
   ]
  },
  {
   "cell_type": "code",
   "execution_count": 16,
   "id": "67fa7f5d",
   "metadata": {},
   "outputs": [],
   "source": [
    "\n",
    "mapping = {\n",
    "    'PHD':5,\n",
    "    'MASTERS':4,\n",
    "    'CA':3.8,\n",
    "    'BACHELORS':3,\n",
    "    'OTHERS':2.5,\n",
    "    'DIPLOMA':2,\n",
    "    'TWELTH':1.5,\n",
    "    'TENTH':1\n",
    "}\n",
    "transformed_degree = []\n",
    "for degree in df['degree']:\n",
    "    transformed_degree.append(mapping[degree])"
   ]
  },
  {
   "cell_type": "code",
   "execution_count": 17,
   "id": "32e1959b",
   "metadata": {},
   "outputs": [
    {
     "data": {
      "text/html": [
       "<div>\n",
       "<style scoped>\n",
       "    .dataframe tbody tr th:only-of-type {\n",
       "        vertical-align: middle;\n",
       "    }\n",
       "\n",
       "    .dataframe tbody tr th {\n",
       "        vertical-align: top;\n",
       "    }\n",
       "\n",
       "    .dataframe thead th {\n",
       "        text-align: right;\n",
       "    }\n",
       "</style>\n",
       "<table border=\"1\" class=\"dataframe\">\n",
       "  <thead>\n",
       "    <tr style=\"text-align: right;\">\n",
       "      <th></th>\n",
       "      <th>Name</th>\n",
       "      <th>age</th>\n",
       "      <th>degree</th>\n",
       "      <th>salary</th>\n",
       "      <th>experience</th>\n",
       "      <th>salaryTPA</th>\n",
       "      <th>transformed_degree</th>\n",
       "    </tr>\n",
       "  </thead>\n",
       "  <tbody>\n",
       "    <tr>\n",
       "      <th>0</th>\n",
       "      <td>Rajendran ramaiyan</td>\n",
       "      <td>54</td>\n",
       "      <td>BACHELORS</td>\n",
       "      <td>1500000</td>\n",
       "      <td>240</td>\n",
       "      <td>150.00</td>\n",
       "      <td>3.0</td>\n",
       "    </tr>\n",
       "    <tr>\n",
       "      <th>1</th>\n",
       "      <td>Krishan kumar</td>\n",
       "      <td>36</td>\n",
       "      <td>BACHELORS</td>\n",
       "      <td>3840000</td>\n",
       "      <td>81</td>\n",
       "      <td>384.00</td>\n",
       "      <td>3.0</td>\n",
       "    </tr>\n",
       "    <tr>\n",
       "      <th>2</th>\n",
       "      <td>Dhanush kumar</td>\n",
       "      <td>23</td>\n",
       "      <td>BACHELORS</td>\n",
       "      <td>180000</td>\n",
       "      <td>1</td>\n",
       "      <td>18.00</td>\n",
       "      <td>3.0</td>\n",
       "    </tr>\n",
       "    <tr>\n",
       "      <th>3</th>\n",
       "      <td>Krishna kumar</td>\n",
       "      <td>36</td>\n",
       "      <td>BACHELORS</td>\n",
       "      <td>9157500</td>\n",
       "      <td>104</td>\n",
       "      <td>915.75</td>\n",
       "      <td>3.0</td>\n",
       "    </tr>\n",
       "    <tr>\n",
       "      <th>4</th>\n",
       "      <td>Deepa shankar</td>\n",
       "      <td>46</td>\n",
       "      <td>OTHERS</td>\n",
       "      <td>2660000</td>\n",
       "      <td>204</td>\n",
       "      <td>266.00</td>\n",
       "      <td>2.5</td>\n",
       "    </tr>\n",
       "  </tbody>\n",
       "</table>\n",
       "</div>"
      ],
      "text/plain": [
       "                  Name  age     degree   salary  experience  salaryTPA  \\\n",
       "0  Rajendran ramaiyan    54  BACHELORS  1500000         240     150.00   \n",
       "1       Krishan kumar    36  BACHELORS  3840000          81     384.00   \n",
       "2       Dhanush kumar    23  BACHELORS   180000           1      18.00   \n",
       "3       Krishna kumar    36  BACHELORS  9157500         104     915.75   \n",
       "4       Deepa shankar    46     OTHERS  2660000         204     266.00   \n",
       "\n",
       "   transformed_degree  \n",
       "0                 3.0  \n",
       "1                 3.0  \n",
       "2                 3.0  \n",
       "3                 3.0  \n",
       "4                 2.5  "
      ]
     },
     "execution_count": 17,
     "metadata": {},
     "output_type": "execute_result"
    }
   ],
   "source": [
    "df['transformed_degree'] = transformed_degree\n",
    "df.head()"
   ]
  },
  {
   "cell_type": "code",
   "execution_count": 18,
   "id": "9dd0d12e",
   "metadata": {},
   "outputs": [
    {
     "data": {
      "text/html": [
       "<div>\n",
       "<style scoped>\n",
       "    .dataframe tbody tr th:only-of-type {\n",
       "        vertical-align: middle;\n",
       "    }\n",
       "\n",
       "    .dataframe tbody tr th {\n",
       "        vertical-align: top;\n",
       "    }\n",
       "\n",
       "    .dataframe thead th {\n",
       "        text-align: right;\n",
       "    }\n",
       "</style>\n",
       "<table border=\"1\" class=\"dataframe\">\n",
       "  <thead>\n",
       "    <tr style=\"text-align: right;\">\n",
       "      <th></th>\n",
       "      <th>Name</th>\n",
       "      <th>age</th>\n",
       "      <th>degree</th>\n",
       "      <th>salary</th>\n",
       "      <th>experience</th>\n",
       "      <th>salaryTPA</th>\n",
       "      <th>transformed_degree</th>\n",
       "    </tr>\n",
       "  </thead>\n",
       "  <tbody>\n",
       "    <tr>\n",
       "      <th>31</th>\n",
       "      <td>Sailekha.m</td>\n",
       "      <td>7</td>\n",
       "      <td>BACHELORS</td>\n",
       "      <td>270000</td>\n",
       "      <td>108</td>\n",
       "      <td>27.0</td>\n",
       "      <td>3.0</td>\n",
       "    </tr>\n",
       "    <tr>\n",
       "      <th>110</th>\n",
       "      <td>Siva kumar</td>\n",
       "      <td>1</td>\n",
       "      <td>OTHERS</td>\n",
       "      <td>4980000</td>\n",
       "      <td>102</td>\n",
       "      <td>498.0</td>\n",
       "      <td>2.5</td>\n",
       "    </tr>\n",
       "    <tr>\n",
       "      <th>149</th>\n",
       "      <td>Roshini s</td>\n",
       "      <td>1</td>\n",
       "      <td>BACHELORS</td>\n",
       "      <td>5040000</td>\n",
       "      <td>17</td>\n",
       "      <td>504.0</td>\n",
       "      <td>3.0</td>\n",
       "    </tr>\n",
       "    <tr>\n",
       "      <th>198</th>\n",
       "      <td>A r sakthivel aathithan</td>\n",
       "      <td>1</td>\n",
       "      <td>BACHELORS</td>\n",
       "      <td>300000</td>\n",
       "      <td>24</td>\n",
       "      <td>30.0</td>\n",
       "      <td>3.0</td>\n",
       "    </tr>\n",
       "    <tr>\n",
       "      <th>279</th>\n",
       "      <td>Alex lenin j</td>\n",
       "      <td>15</td>\n",
       "      <td>MASTERS</td>\n",
       "      <td>530000</td>\n",
       "      <td>120</td>\n",
       "      <td>53.0</td>\n",
       "      <td>4.0</td>\n",
       "    </tr>\n",
       "    <tr>\n",
       "      <th>...</th>\n",
       "      <td>...</td>\n",
       "      <td>...</td>\n",
       "      <td>...</td>\n",
       "      <td>...</td>\n",
       "      <td>...</td>\n",
       "      <td>...</td>\n",
       "      <td>...</td>\n",
       "    </tr>\n",
       "    <tr>\n",
       "      <th>3025</th>\n",
       "      <td>Aathi lakshmi</td>\n",
       "      <td>2</td>\n",
       "      <td>MASTERS</td>\n",
       "      <td>130000</td>\n",
       "      <td>18</td>\n",
       "      <td>13.0</td>\n",
       "      <td>4.0</td>\n",
       "    </tr>\n",
       "    <tr>\n",
       "      <th>3036</th>\n",
       "      <td>Shyam sundar</td>\n",
       "      <td>1</td>\n",
       "      <td>OTHERS</td>\n",
       "      <td>1200000</td>\n",
       "      <td>148</td>\n",
       "      <td>120.0</td>\n",
       "      <td>2.5</td>\n",
       "    </tr>\n",
       "    <tr>\n",
       "      <th>3050</th>\n",
       "      <td>Sheik mohammed p</td>\n",
       "      <td>2</td>\n",
       "      <td>BACHELORS</td>\n",
       "      <td>480000</td>\n",
       "      <td>91</td>\n",
       "      <td>48.0</td>\n",
       "      <td>3.0</td>\n",
       "    </tr>\n",
       "    <tr>\n",
       "      <th>3067</th>\n",
       "      <td>Mohammed abbas m</td>\n",
       "      <td>1</td>\n",
       "      <td>BACHELORS</td>\n",
       "      <td>1800000</td>\n",
       "      <td>115</td>\n",
       "      <td>180.0</td>\n",
       "      <td>3.0</td>\n",
       "    </tr>\n",
       "    <tr>\n",
       "      <th>3089</th>\n",
       "      <td>Sachin singh</td>\n",
       "      <td>2</td>\n",
       "      <td>MASTERS</td>\n",
       "      <td>1550000</td>\n",
       "      <td>173</td>\n",
       "      <td>155.0</td>\n",
       "      <td>4.0</td>\n",
       "    </tr>\n",
       "  </tbody>\n",
       "</table>\n",
       "<p>78 rows × 7 columns</p>\n",
       "</div>"
      ],
      "text/plain": [
       "                           Name  age     degree   salary  experience  \\\n",
       "31                Sailekha.m       7  BACHELORS   270000         108   \n",
       "110                Siva kumar      1     OTHERS  4980000         102   \n",
       "149                 Roshini s      1  BACHELORS  5040000          17   \n",
       "198   A r sakthivel aathithan      1  BACHELORS   300000          24   \n",
       "279              Alex lenin j     15    MASTERS   530000         120   \n",
       "...                         ...  ...        ...      ...         ...   \n",
       "3025          Aathi lakshmi        2    MASTERS   130000          18   \n",
       "3036             Shyam sundar      1     OTHERS  1200000         148   \n",
       "3050         Sheik mohammed p      2  BACHELORS   480000          91   \n",
       "3067         Mohammed abbas m      1  BACHELORS  1800000         115   \n",
       "3089            Sachin singh       2    MASTERS  1550000         173   \n",
       "\n",
       "      salaryTPA  transformed_degree  \n",
       "31         27.0                 3.0  \n",
       "110       498.0                 2.5  \n",
       "149       504.0                 3.0  \n",
       "198        30.0                 3.0  \n",
       "279        53.0                 4.0  \n",
       "...         ...                 ...  \n",
       "3025       13.0                 4.0  \n",
       "3036      120.0                 2.5  \n",
       "3050       48.0                 3.0  \n",
       "3067      180.0                 3.0  \n",
       "3089      155.0                 4.0  \n",
       "\n",
       "[78 rows x 7 columns]"
      ]
     },
     "execution_count": 18,
     "metadata": {},
     "output_type": "execute_result"
    }
   ],
   "source": [
    "df[df['age'] < 18]"
   ]
  },
  {
   "cell_type": "markdown",
   "id": "244cb088",
   "metadata": {},
   "source": [
    "* For those age less than 18 add 18 with experience"
   ]
  },
  {
   "cell_type": "code",
   "execution_count": 19,
   "id": "132aaa4a",
   "metadata": {},
   "outputs": [],
   "source": [
    "transformed_age = []\n",
    "itr = 0\n",
    "for age in df['age']:\n",
    "    if age < 19:\n",
    "        value = 0\n",
    "        if df._get_value(itr, 'degree')  == 'MASTERS':\n",
    "            value += 5\n",
    "        elif df._get_value(itr, 'degree')  == 'PHD':\n",
    "            value += 6\n",
    "        elif df._get_value(itr, 'degree')  == 'BACHELORS' or df._get_value(itr, 'degree')  == 'CA':\n",
    "            value += 4\n",
    "        value = value + (df._get_value(itr, 'experience') // 12) + 18\n",
    "        transformed_age.append(value)\n",
    "    else:\n",
    "        transformed_age.append(age)\n",
    "    itr += 1"
   ]
  },
  {
   "cell_type": "code",
   "execution_count": 20,
   "id": "8b822e74",
   "metadata": {},
   "outputs": [
    {
     "data": {
      "text/html": [
       "<div>\n",
       "<style scoped>\n",
       "    .dataframe tbody tr th:only-of-type {\n",
       "        vertical-align: middle;\n",
       "    }\n",
       "\n",
       "    .dataframe tbody tr th {\n",
       "        vertical-align: top;\n",
       "    }\n",
       "\n",
       "    .dataframe thead th {\n",
       "        text-align: right;\n",
       "    }\n",
       "</style>\n",
       "<table border=\"1\" class=\"dataframe\">\n",
       "  <thead>\n",
       "    <tr style=\"text-align: right;\">\n",
       "      <th></th>\n",
       "      <th>Name</th>\n",
       "      <th>age</th>\n",
       "      <th>degree</th>\n",
       "      <th>salary</th>\n",
       "      <th>experience</th>\n",
       "      <th>salaryTPA</th>\n",
       "      <th>transformed_degree</th>\n",
       "      <th>transformed_age</th>\n",
       "    </tr>\n",
       "  </thead>\n",
       "  <tbody>\n",
       "    <tr>\n",
       "      <th>0</th>\n",
       "      <td>Rajendran ramaiyan</td>\n",
       "      <td>54</td>\n",
       "      <td>BACHELORS</td>\n",
       "      <td>1500000</td>\n",
       "      <td>240</td>\n",
       "      <td>150.00</td>\n",
       "      <td>3.0</td>\n",
       "      <td>54</td>\n",
       "    </tr>\n",
       "    <tr>\n",
       "      <th>1</th>\n",
       "      <td>Krishan kumar</td>\n",
       "      <td>36</td>\n",
       "      <td>BACHELORS</td>\n",
       "      <td>3840000</td>\n",
       "      <td>81</td>\n",
       "      <td>384.00</td>\n",
       "      <td>3.0</td>\n",
       "      <td>36</td>\n",
       "    </tr>\n",
       "    <tr>\n",
       "      <th>2</th>\n",
       "      <td>Dhanush kumar</td>\n",
       "      <td>23</td>\n",
       "      <td>BACHELORS</td>\n",
       "      <td>180000</td>\n",
       "      <td>1</td>\n",
       "      <td>18.00</td>\n",
       "      <td>3.0</td>\n",
       "      <td>23</td>\n",
       "    </tr>\n",
       "    <tr>\n",
       "      <th>3</th>\n",
       "      <td>Krishna kumar</td>\n",
       "      <td>36</td>\n",
       "      <td>BACHELORS</td>\n",
       "      <td>9157500</td>\n",
       "      <td>104</td>\n",
       "      <td>915.75</td>\n",
       "      <td>3.0</td>\n",
       "      <td>36</td>\n",
       "    </tr>\n",
       "    <tr>\n",
       "      <th>4</th>\n",
       "      <td>Deepa shankar</td>\n",
       "      <td>46</td>\n",
       "      <td>OTHERS</td>\n",
       "      <td>2660000</td>\n",
       "      <td>204</td>\n",
       "      <td>266.00</td>\n",
       "      <td>2.5</td>\n",
       "      <td>46</td>\n",
       "    </tr>\n",
       "  </tbody>\n",
       "</table>\n",
       "</div>"
      ],
      "text/plain": [
       "                  Name  age     degree   salary  experience  salaryTPA  \\\n",
       "0  Rajendran ramaiyan    54  BACHELORS  1500000         240     150.00   \n",
       "1       Krishan kumar    36  BACHELORS  3840000          81     384.00   \n",
       "2       Dhanush kumar    23  BACHELORS   180000           1      18.00   \n",
       "3       Krishna kumar    36  BACHELORS  9157500         104     915.75   \n",
       "4       Deepa shankar    46     OTHERS  2660000         204     266.00   \n",
       "\n",
       "   transformed_degree  transformed_age  \n",
       "0                 3.0               54  \n",
       "1                 3.0               36  \n",
       "2                 3.0               23  \n",
       "3                 3.0               36  \n",
       "4                 2.5               46  "
      ]
     },
     "execution_count": 20,
     "metadata": {},
     "output_type": "execute_result"
    }
   ],
   "source": [
    "df['transformed_age'] = transformed_age\n",
    "df.head()"
   ]
  },
  {
   "cell_type": "code",
   "execution_count": 21,
   "id": "c88b3828",
   "metadata": {},
   "outputs": [
    {
     "data": {
      "text/html": [
       "<div>\n",
       "<style scoped>\n",
       "    .dataframe tbody tr th:only-of-type {\n",
       "        vertical-align: middle;\n",
       "    }\n",
       "\n",
       "    .dataframe tbody tr th {\n",
       "        vertical-align: top;\n",
       "    }\n",
       "\n",
       "    .dataframe thead th {\n",
       "        text-align: right;\n",
       "    }\n",
       "</style>\n",
       "<table border=\"1\" class=\"dataframe\">\n",
       "  <thead>\n",
       "    <tr style=\"text-align: right;\">\n",
       "      <th></th>\n",
       "      <th>Name</th>\n",
       "      <th>age</th>\n",
       "      <th>degree</th>\n",
       "      <th>salary</th>\n",
       "      <th>experience</th>\n",
       "      <th>salaryTPA</th>\n",
       "      <th>transformed_degree</th>\n",
       "      <th>transformed_age</th>\n",
       "    </tr>\n",
       "  </thead>\n",
       "  <tbody>\n",
       "  </tbody>\n",
       "</table>\n",
       "</div>"
      ],
      "text/plain": [
       "Empty DataFrame\n",
       "Columns: [Name, age, degree, salary, experience, salaryTPA, transformed_degree, transformed_age]\n",
       "Index: []"
      ]
     },
     "execution_count": 21,
     "metadata": {},
     "output_type": "execute_result"
    }
   ],
   "source": [
    "df[df['transformed_age'] < 18]"
   ]
  },
  {
   "cell_type": "code",
   "execution_count": 22,
   "id": "5c858670",
   "metadata": {},
   "outputs": [
    {
     "data": {
      "text/html": [
       "<div>\n",
       "<style scoped>\n",
       "    .dataframe tbody tr th:only-of-type {\n",
       "        vertical-align: middle;\n",
       "    }\n",
       "\n",
       "    .dataframe tbody tr th {\n",
       "        vertical-align: top;\n",
       "    }\n",
       "\n",
       "    .dataframe thead th {\n",
       "        text-align: right;\n",
       "    }\n",
       "</style>\n",
       "<table border=\"1\" class=\"dataframe\">\n",
       "  <thead>\n",
       "    <tr style=\"text-align: right;\">\n",
       "      <th></th>\n",
       "      <th>count</th>\n",
       "      <th>mean</th>\n",
       "      <th>std</th>\n",
       "      <th>min</th>\n",
       "      <th>25%</th>\n",
       "      <th>50%</th>\n",
       "      <th>75%</th>\n",
       "      <th>max</th>\n",
       "    </tr>\n",
       "  </thead>\n",
       "  <tbody>\n",
       "    <tr>\n",
       "      <th>age</th>\n",
       "      <td>3107.0</td>\n",
       "      <td>3.474960e+01</td>\n",
       "      <td>9.138858e+00</td>\n",
       "      <td>1.0</td>\n",
       "      <td>29.0</td>\n",
       "      <td>34.0</td>\n",
       "      <td>40.0</td>\n",
       "      <td>71.0</td>\n",
       "    </tr>\n",
       "    <tr>\n",
       "      <th>salary</th>\n",
       "      <td>3107.0</td>\n",
       "      <td>2.352315e+06</td>\n",
       "      <td>5.629336e+06</td>\n",
       "      <td>5000.0</td>\n",
       "      <td>360000.0</td>\n",
       "      <td>770000.0</td>\n",
       "      <td>1700000.0</td>\n",
       "      <td>102000000.0</td>\n",
       "    </tr>\n",
       "    <tr>\n",
       "      <th>experience</th>\n",
       "      <td>3107.0</td>\n",
       "      <td>1.204110e+02</td>\n",
       "      <td>7.846839e+01</td>\n",
       "      <td>0.0</td>\n",
       "      <td>60.0</td>\n",
       "      <td>109.0</td>\n",
       "      <td>168.0</td>\n",
       "      <td>516.0</td>\n",
       "    </tr>\n",
       "    <tr>\n",
       "      <th>salaryTPA</th>\n",
       "      <td>3107.0</td>\n",
       "      <td>2.352315e+02</td>\n",
       "      <td>5.629336e+02</td>\n",
       "      <td>0.5</td>\n",
       "      <td>36.0</td>\n",
       "      <td>77.0</td>\n",
       "      <td>170.0</td>\n",
       "      <td>10200.0</td>\n",
       "    </tr>\n",
       "    <tr>\n",
       "      <th>transformed_degree</th>\n",
       "      <td>3107.0</td>\n",
       "      <td>3.312971e+00</td>\n",
       "      <td>6.132229e-01</td>\n",
       "      <td>1.0</td>\n",
       "      <td>3.0</td>\n",
       "      <td>3.0</td>\n",
       "      <td>4.0</td>\n",
       "      <td>5.0</td>\n",
       "    </tr>\n",
       "    <tr>\n",
       "      <th>transformed_age</th>\n",
       "      <td>3107.0</td>\n",
       "      <td>3.544641e+01</td>\n",
       "      <td>7.643452e+00</td>\n",
       "      <td>19.0</td>\n",
       "      <td>30.0</td>\n",
       "      <td>34.0</td>\n",
       "      <td>40.0</td>\n",
       "      <td>71.0</td>\n",
       "    </tr>\n",
       "  </tbody>\n",
       "</table>\n",
       "</div>"
      ],
      "text/plain": [
       "                     count          mean           std     min       25%  \\\n",
       "age                 3107.0  3.474960e+01  9.138858e+00     1.0      29.0   \n",
       "salary              3107.0  2.352315e+06  5.629336e+06  5000.0  360000.0   \n",
       "experience          3107.0  1.204110e+02  7.846839e+01     0.0      60.0   \n",
       "salaryTPA           3107.0  2.352315e+02  5.629336e+02     0.5      36.0   \n",
       "transformed_degree  3107.0  3.312971e+00  6.132229e-01     1.0       3.0   \n",
       "transformed_age     3107.0  3.544641e+01  7.643452e+00    19.0      30.0   \n",
       "\n",
       "                         50%        75%          max  \n",
       "age                     34.0       40.0         71.0  \n",
       "salary              770000.0  1700000.0  102000000.0  \n",
       "experience             109.0      168.0        516.0  \n",
       "salaryTPA               77.0      170.0      10200.0  \n",
       "transformed_degree       3.0        4.0          5.0  \n",
       "transformed_age         34.0       40.0         71.0  "
      ]
     },
     "execution_count": 22,
     "metadata": {},
     "output_type": "execute_result"
    }
   ],
   "source": [
    "df.describe().T"
   ]
  },
  {
   "cell_type": "code",
   "execution_count": 23,
   "id": "c6221698",
   "metadata": {},
   "outputs": [
    {
     "data": {
      "text/plain": [
       "Name                  0\n",
       "age                   0\n",
       "degree                0\n",
       "salary                0\n",
       "experience            0\n",
       "salaryTPA             0\n",
       "transformed_degree    0\n",
       "transformed_age       0\n",
       "dtype: int64"
      ]
     },
     "execution_count": 23,
     "metadata": {},
     "output_type": "execute_result"
    }
   ],
   "source": [
    "df.isnull().sum()"
   ]
  },
  {
   "cell_type": "markdown",
   "id": "39b73e02",
   "metadata": {},
   "source": [
    "## Further Pre-Processing and Visualization"
   ]
  },
  {
   "cell_type": "markdown",
   "id": "38df978e",
   "metadata": {},
   "source": [
    "*  Extracting only the features from the column"
   ]
  },
  {
   "cell_type": "code",
   "execution_count": 24,
   "id": "e8fa6d86",
   "metadata": {},
   "outputs": [
    {
     "data": {
      "text/html": [
       "<div>\n",
       "<style scoped>\n",
       "    .dataframe tbody tr th:only-of-type {\n",
       "        vertical-align: middle;\n",
       "    }\n",
       "\n",
       "    .dataframe tbody tr th {\n",
       "        vertical-align: top;\n",
       "    }\n",
       "\n",
       "    .dataframe thead th {\n",
       "        text-align: right;\n",
       "    }\n",
       "</style>\n",
       "<table border=\"1\" class=\"dataframe\">\n",
       "  <thead>\n",
       "    <tr style=\"text-align: right;\">\n",
       "      <th></th>\n",
       "      <th>experience</th>\n",
       "      <th>salaryTPA</th>\n",
       "      <th>transformed_degree</th>\n",
       "      <th>transformed_age</th>\n",
       "    </tr>\n",
       "  </thead>\n",
       "  <tbody>\n",
       "    <tr>\n",
       "      <th>0</th>\n",
       "      <td>240</td>\n",
       "      <td>150.00</td>\n",
       "      <td>3.0</td>\n",
       "      <td>54</td>\n",
       "    </tr>\n",
       "    <tr>\n",
       "      <th>1</th>\n",
       "      <td>81</td>\n",
       "      <td>384.00</td>\n",
       "      <td>3.0</td>\n",
       "      <td>36</td>\n",
       "    </tr>\n",
       "    <tr>\n",
       "      <th>2</th>\n",
       "      <td>1</td>\n",
       "      <td>18.00</td>\n",
       "      <td>3.0</td>\n",
       "      <td>23</td>\n",
       "    </tr>\n",
       "    <tr>\n",
       "      <th>3</th>\n",
       "      <td>104</td>\n",
       "      <td>915.75</td>\n",
       "      <td>3.0</td>\n",
       "      <td>36</td>\n",
       "    </tr>\n",
       "    <tr>\n",
       "      <th>4</th>\n",
       "      <td>204</td>\n",
       "      <td>266.00</td>\n",
       "      <td>2.5</td>\n",
       "      <td>46</td>\n",
       "    </tr>\n",
       "  </tbody>\n",
       "</table>\n",
       "</div>"
      ],
      "text/plain": [
       "   experience  salaryTPA  transformed_degree  transformed_age\n",
       "0         240     150.00                 3.0               54\n",
       "1          81     384.00                 3.0               36\n",
       "2           1      18.00                 3.0               23\n",
       "3         104     915.75                 3.0               36\n",
       "4         204     266.00                 2.5               46"
      ]
     },
     "execution_count": 24,
     "metadata": {},
     "output_type": "execute_result"
    }
   ],
   "source": [
    "new_df = df[['experience', 'salaryTPA', 'transformed_degree', 'transformed_age']]\n",
    "new_df.head()"
   ]
  },
  {
   "cell_type": "code",
   "execution_count": 25,
   "id": "5d64c2f2",
   "metadata": {},
   "outputs": [
    {
     "data": {
      "image/png": "[encoded data removed]",
      "text/plain": [
       "<Figure size 1080x432 with 3 Axes>"
      ]
     },
     "metadata": {
      "needs_background": "light"
     },
     "output_type": "display_data"
    }
   ],
   "source": [
    "plt.figure(1 , figsize = (15 , 6))\n",
    "n = 0 \n",
    "for col in ['transformed_age' , 'salaryTPA' , 'experience']:\n",
    "    n += 1\n",
    "    plt.subplot(1 , 3 , n)\n",
    "    plt.subplots_adjust(hspace =0.5 , wspace = 0.5)\n",
    "    sns.histplot(data=new_df, x=col, bins = 20, kde=True)\n",
    "    plt.title('Histplot of {}'.format(col))\n",
    "plt.show()"
   ]
  },
  {
   "cell_type": "code",
   "execution_count": 26,
   "id": "feab7a2a",
   "metadata": {},
   "outputs": [
    {
     "name": "stdout",
     "output_type": "stream",
     "text": [
      "-----------Variance-----------\n",
      "experience              6157.287876\n",
      "salaryTPA             316894.256941\n",
      "transformed_degree         0.376042\n",
      "transformed_age           58.422353\n",
      "dtype: float64\n",
      "-----------Co-Variance-----------\n",
      "                      experience      salaryTPA  transformed_degree  \\\n",
      "experience           6157.287876   11248.823375            8.024416   \n",
      "salaryTPA           11248.823375  316894.256941           23.714173   \n",
      "transformed_degree      8.024416      23.714173            0.376042   \n",
      "transformed_age       520.202812     944.102350            1.045657   \n",
      "\n",
      "                    transformed_age  \n",
      "experience               520.202812  \n",
      "salaryTPA                944.102350  \n",
      "transformed_degree         1.045657  \n",
      "transformed_age           58.422353  \n"
     ]
    }
   ],
   "source": [
    "# Printing some meaningful stats of the data\n",
    "print(\"-----------Variance-----------\")\n",
    "print(new_df.var())\n",
    "\n",
    "print(\"-----------Co-Variance-----------\")\n",
    "print(new_df.cov())"
   ]
  },
  {
   "cell_type": "code",
   "execution_count": 27,
   "id": "9c993598",
   "metadata": {},
   "outputs": [
    {
     "data": {
      "text/plain": [
       "<seaborn.axisgrid.PairGrid at 0x19a37e42ee0>"
      ]
     },
     "execution_count": 27,
     "metadata": {},
     "output_type": "execute_result"
    },
    {
     "data": {
      "image/png": "[encoded data removed]",
      "text/plain": [
       "<Figure size 720x720 with 20 Axes>"
      ]
     },
     "metadata": {
      "needs_background": "light"
     },
     "output_type": "display_data"
    }
   ],
   "source": [
    "sns.pairplot(new_df)"
   ]
  },
  {
   "cell_type": "markdown",
   "id": "81a33390",
   "metadata": {},
   "source": [
    "##### Creating a separate dataframe for outlier removal and scaling which needs to be used only in some models"
   ]
  },
  {
   "cell_type": "code",
   "execution_count": 28,
   "id": "871c60e2",
   "metadata": {},
   "outputs": [
    {
     "data": {
      "text/html": [
       "<div>\n",
       "<style scoped>\n",
       "    .dataframe tbody tr th:only-of-type {\n",
       "        vertical-align: middle;\n",
       "    }\n",
       "\n",
       "    .dataframe tbody tr th {\n",
       "        vertical-align: top;\n",
       "    }\n",
       "\n",
       "    .dataframe thead th {\n",
       "        text-align: right;\n",
       "    }\n",
       "</style>\n",
       "<table border=\"1\" class=\"dataframe\">\n",
       "  <thead>\n",
       "    <tr style=\"text-align: right;\">\n",
       "      <th></th>\n",
       "      <th>experience</th>\n",
       "      <th>salaryTPA</th>\n",
       "      <th>transformed_degree</th>\n",
       "      <th>transformed_age</th>\n",
       "    </tr>\n",
       "  </thead>\n",
       "  <tbody>\n",
       "    <tr>\n",
       "      <th>0</th>\n",
       "      <td>240</td>\n",
       "      <td>150.00</td>\n",
       "      <td>3.0</td>\n",
       "      <td>54</td>\n",
       "    </tr>\n",
       "    <tr>\n",
       "      <th>1</th>\n",
       "      <td>81</td>\n",
       "      <td>384.00</td>\n",
       "      <td>3.0</td>\n",
       "      <td>36</td>\n",
       "    </tr>\n",
       "    <tr>\n",
       "      <th>2</th>\n",
       "      <td>1</td>\n",
       "      <td>18.00</td>\n",
       "      <td>3.0</td>\n",
       "      <td>23</td>\n",
       "    </tr>\n",
       "    <tr>\n",
       "      <th>3</th>\n",
       "      <td>104</td>\n",
       "      <td>915.75</td>\n",
       "      <td>3.0</td>\n",
       "      <td>36</td>\n",
       "    </tr>\n",
       "    <tr>\n",
       "      <th>4</th>\n",
       "      <td>204</td>\n",
       "      <td>266.00</td>\n",
       "      <td>2.5</td>\n",
       "      <td>46</td>\n",
       "    </tr>\n",
       "  </tbody>\n",
       "</table>\n",
       "</div>"
      ],
      "text/plain": [
       "   experience  salaryTPA  transformed_degree  transformed_age\n",
       "0         240     150.00                 3.0               54\n",
       "1          81     384.00                 3.0               36\n",
       "2           1      18.00                 3.0               23\n",
       "3         104     915.75                 3.0               36\n",
       "4         204     266.00                 2.5               46"
      ]
     },
     "execution_count": 28,
     "metadata": {},
     "output_type": "execute_result"
    }
   ],
   "source": [
    "scaledDf = new_df.copy()\n",
    "scaledDf.head()"
   ]
  },
  {
   "cell_type": "markdown",
   "id": "2f444c19",
   "metadata": {},
   "source": [
    "###### Remove Outliers using IQR logic"
   ]
  },
  {
   "cell_type": "code",
   "execution_count": 29,
   "id": "8fafee13",
   "metadata": {},
   "outputs": [],
   "source": [
    "def remove_outlier(col):\n",
    "    sorted(col)\n",
    "    Q1,Q3=np.percentile(col,[25,75])\n",
    "    IQR=Q3-Q1\n",
    "    lower_range= Q1-(1.5 * IQR)\n",
    "    upper_range= Q3+(1.5 * IQR)\n",
    "    return lower_range, upper_range\n",
    "\n",
    "lr, ur = remove_outlier(scaledDf['experience'])\n",
    "scaledDf['experience']=np.where(scaledDf['experience']>ur,ur,scaledDf['experience'])\n",
    "scaledDf['experience']=np.where(scaledDf['experience']<lr,lr,scaledDf['experience'])\n",
    "\n",
    "lr, ur = remove_outlier(scaledDf['salaryTPA'])\n",
    "scaledDf['salaryTPA']=np.where(scaledDf['salaryTPA']>ur,ur,scaledDf['salaryTPA'])\n",
    "scaledDf['salaryTPA']=np.where(scaledDf['salaryTPA']<lr,lr,scaledDf['salaryTPA'])\n",
    "\n",
    "lr, ur = remove_outlier(scaledDf['transformed_age'])\n",
    "scaledDf['transformed_age']=np.where(scaledDf['transformed_age']>ur,ur,scaledDf['transformed_age'])\n",
    "scaledDf['transformed_age']=np.where(scaledDf['transformed_age']<lr,lr,scaledDf['transformed_age'])"
   ]
  },
  {
   "cell_type": "code",
   "execution_count": 30,
   "id": "9c429706",
   "metadata": {},
   "outputs": [
    {
     "data": {
      "text/html": [
       "<div>\n",
       "<style scoped>\n",
       "    .dataframe tbody tr th:only-of-type {\n",
       "        vertical-align: middle;\n",
       "    }\n",
       "\n",
       "    .dataframe tbody tr th {\n",
       "        vertical-align: top;\n",
       "    }\n",
       "\n",
       "    .dataframe thead th {\n",
       "        text-align: right;\n",
       "    }\n",
       "</style>\n",
       "<table border=\"1\" class=\"dataframe\">\n",
       "  <thead>\n",
       "    <tr style=\"text-align: right;\">\n",
       "      <th></th>\n",
       "      <th>experience</th>\n",
       "      <th>salaryTPA</th>\n",
       "      <th>transformed_degree</th>\n",
       "      <th>transformed_age</th>\n",
       "    </tr>\n",
       "  </thead>\n",
       "  <tbody>\n",
       "    <tr>\n",
       "      <th>0</th>\n",
       "      <td>240.0</td>\n",
       "      <td>150.0</td>\n",
       "      <td>3.0</td>\n",
       "      <td>54.0</td>\n",
       "    </tr>\n",
       "    <tr>\n",
       "      <th>1</th>\n",
       "      <td>81.0</td>\n",
       "      <td>371.0</td>\n",
       "      <td>3.0</td>\n",
       "      <td>36.0</td>\n",
       "    </tr>\n",
       "    <tr>\n",
       "      <th>2</th>\n",
       "      <td>1.0</td>\n",
       "      <td>18.0</td>\n",
       "      <td>3.0</td>\n",
       "      <td>23.0</td>\n",
       "    </tr>\n",
       "    <tr>\n",
       "      <th>3</th>\n",
       "      <td>104.0</td>\n",
       "      <td>371.0</td>\n",
       "      <td>3.0</td>\n",
       "      <td>36.0</td>\n",
       "    </tr>\n",
       "    <tr>\n",
       "      <th>4</th>\n",
       "      <td>204.0</td>\n",
       "      <td>266.0</td>\n",
       "      <td>2.5</td>\n",
       "      <td>46.0</td>\n",
       "    </tr>\n",
       "  </tbody>\n",
       "</table>\n",
       "</div>"
      ],
      "text/plain": [
       "   experience  salaryTPA  transformed_degree  transformed_age\n",
       "0       240.0      150.0                 3.0             54.0\n",
       "1        81.0      371.0                 3.0             36.0\n",
       "2         1.0       18.0                 3.0             23.0\n",
       "3       104.0      371.0                 3.0             36.0\n",
       "4       204.0      266.0                 2.5             46.0"
      ]
     },
     "execution_count": 30,
     "metadata": {},
     "output_type": "execute_result"
    }
   ],
   "source": [
    "scaledDf.head()"
   ]
  },
  {
   "cell_type": "code",
   "execution_count": 31,
   "id": "1ce088d6",
   "metadata": {},
   "outputs": [
    {
     "data": {
      "text/html": [
       "<div>\n",
       "<style scoped>\n",
       "    .dataframe tbody tr th:only-of-type {\n",
       "        vertical-align: middle;\n",
       "    }\n",
       "\n",
       "    .dataframe tbody tr th {\n",
       "        vertical-align: top;\n",
       "    }\n",
       "\n",
       "    .dataframe thead th {\n",
       "        text-align: right;\n",
       "    }\n",
       "</style>\n",
       "<table border=\"1\" class=\"dataframe\">\n",
       "  <thead>\n",
       "    <tr style=\"text-align: right;\">\n",
       "      <th></th>\n",
       "      <th>count</th>\n",
       "      <th>mean</th>\n",
       "      <th>std</th>\n",
       "      <th>min</th>\n",
       "      <th>25%</th>\n",
       "      <th>50%</th>\n",
       "      <th>75%</th>\n",
       "      <th>max</th>\n",
       "    </tr>\n",
       "  </thead>\n",
       "  <tbody>\n",
       "    <tr>\n",
       "      <th>experience</th>\n",
       "      <td>3107.0</td>\n",
       "      <td>119.732861</td>\n",
       "      <td>76.205116</td>\n",
       "      <td>0.0</td>\n",
       "      <td>60.0</td>\n",
       "      <td>109.0</td>\n",
       "      <td>168.0</td>\n",
       "      <td>330.0</td>\n",
       "    </tr>\n",
       "    <tr>\n",
       "      <th>salaryTPA</th>\n",
       "      <td>3107.0</td>\n",
       "      <td>124.355687</td>\n",
       "      <td>116.594866</td>\n",
       "      <td>0.5</td>\n",
       "      <td>36.0</td>\n",
       "      <td>77.0</td>\n",
       "      <td>170.0</td>\n",
       "      <td>371.0</td>\n",
       "    </tr>\n",
       "    <tr>\n",
       "      <th>transformed_degree</th>\n",
       "      <td>3107.0</td>\n",
       "      <td>3.312971</td>\n",
       "      <td>0.613223</td>\n",
       "      <td>1.0</td>\n",
       "      <td>3.0</td>\n",
       "      <td>3.0</td>\n",
       "      <td>4.0</td>\n",
       "      <td>5.0</td>\n",
       "    </tr>\n",
       "    <tr>\n",
       "      <th>transformed_age</th>\n",
       "      <td>3107.0</td>\n",
       "      <td>35.382041</td>\n",
       "      <td>7.445823</td>\n",
       "      <td>19.0</td>\n",
       "      <td>30.0</td>\n",
       "      <td>34.0</td>\n",
       "      <td>40.0</td>\n",
       "      <td>55.0</td>\n",
       "    </tr>\n",
       "  </tbody>\n",
       "</table>\n",
       "</div>"
      ],
      "text/plain": [
       "                     count        mean         std   min   25%    50%    75%  \\\n",
       "experience          3107.0  119.732861   76.205116   0.0  60.0  109.0  168.0   \n",
       "salaryTPA           3107.0  124.355687  116.594866   0.5  36.0   77.0  170.0   \n",
       "transformed_degree  3107.0    3.312971    0.613223   1.0   3.0    3.0    4.0   \n",
       "transformed_age     3107.0   35.382041    7.445823  19.0  30.0   34.0   40.0   \n",
       "\n",
       "                      max  \n",
       "experience          330.0  \n",
       "salaryTPA           371.0  \n",
       "transformed_degree    5.0  \n",
       "transformed_age      55.0  "
      ]
     },
     "execution_count": 31,
     "metadata": {},
     "output_type": "execute_result"
    }
   ],
   "source": [
    "scaledDf.describe().T"
   ]
  },
  {
   "cell_type": "code",
   "execution_count": 32,
   "id": "e46c9517",
   "metadata": {},
   "outputs": [
    {
     "data": {
      "image/png": "[encoded data removed]",
      "text/plain": [
       "<Figure size 1080x432 with 3 Axes>"
      ]
     },
     "metadata": {
      "needs_background": "light"
     },
     "output_type": "display_data"
    }
   ],
   "source": [
    "plt.figure(1 , figsize = (15 , 6))\n",
    "n = 0 \n",
    "for col in ['salaryTPA' , 'experience' , 'transformed_age']:\n",
    "    n += 1\n",
    "    plt.subplot(1 , 3 , n)\n",
    "    plt.subplots_adjust(hspace =0.5 , wspace = 0.5)\n",
    "    sns.boxplot(data=scaledDf, x=col)\n",
    "    plt.title('Histplot of {}'.format(col))\n",
    "plt.show()"
   ]
  },
  {
   "cell_type": "markdown",
   "id": "7b15fe02",
   "metadata": {},
   "source": [
    "###### As you can see all the outliers in the data have been removed"
   ]
  },
  {
   "cell_type": "markdown",
   "id": "023f3fd0",
   "metadata": {},
   "source": [
    "##### Since some models like K-Means and Agglomerative are sensitive to outliers we need to scale the data before proceeding"
   ]
  },
  {
   "cell_type": "code",
   "execution_count": 33,
   "id": "5155ad9e",
   "metadata": {},
   "outputs": [
    {
     "data": {
      "text/plain": [
       "array([[ 1.57845699,  0.21997917, -0.51045242,  2.50085933],\n",
       "       [-0.50835296,  2.11573651, -0.51045242,  0.08300747],\n",
       "       [-1.55832023, -0.91232839, -0.51045242, -1.66321888],\n",
       "       ...,\n",
       "       [ 0.00350609, -0.6292515 , -0.51045242, -0.05131764],\n",
       "       [ 0.58098808, -0.63782959, -0.51045242,  0.21733257],\n",
       "       [ 2.36593244,  1.93559667, -1.32594793,  2.36653422]])"
      ]
     },
     "execution_count": 33,
     "metadata": {},
     "output_type": "execute_result"
    }
   ],
   "source": [
    "from sklearn.preprocessing import StandardScaler\n",
    "\n",
    "\n",
    "X = StandardScaler()\n",
    "\n",
    "\n",
    "scaled_df = X.fit_transform(scaledDf)\n",
    "\n",
    "scaled_df"
   ]
  },
  {
   "cell_type": "markdown",
   "id": "cfd0fe3b",
   "metadata": {},
   "source": [
    "## Model Building"
   ]
  },
  {
   "cell_type": "code",
   "execution_count": 41,
   "id": "9b7e693f",
   "metadata": {},
   "outputs": [],
   "source": [
    "from sklearn.cluster import KMeans, MeanShift, estimate_bandwidth, DBSCAN\n",
    "from sklearn.metrics import silhouette_samples, silhouette_score\n",
    "from scipy.cluster.hierarchy import dendrogram, linkage, fcluster\n",
    "from sklearn.neighbors import NearestNeighbors"
   ]
  },
  {
   "cell_type": "markdown",
   "id": "36e2afbc",
   "metadata": {},
   "source": [
    "* Finding the K through the elbow method"
   ]
  },
  {
   "cell_type": "code",
   "execution_count": 35,
   "id": "6d6d072b",
   "metadata": {},
   "outputs": [],
   "source": [
    "wss = []\n",
    "for i in range(1,11):\n",
    "    KM = KMeans(n_clusters=i)\n",
    "    KM.fit(scaled_df)\n",
    "    wss.append(KM.inertia_)"
   ]
  },
  {
   "cell_type": "code",
   "execution_count": 36,
   "id": "129b9582",
   "metadata": {},
   "outputs": [
    {
     "name": "stdout",
     "output_type": "stream",
     "text": [
      "Cluster 0 Diff in wss value: Not Applicable\n",
      "Cluster 1 Diff in wss value: 4795.665721772915\n",
      "Cluster 2 Diff in wss value: 1516.060679773519\n",
      "Cluster 3 Diff in wss value: 1191.5606497332183\n",
      "Cluster 4 Diff in wss value: 913.0839932179906\n",
      "Cluster 5 Diff in wss value: 530.6114988001755\n",
      "Cluster 6 Diff in wss value: 400.5488140514585\n",
      "Cluster 7 Diff in wss value: 249.29651122614723\n",
      "Cluster 8 Diff in wss value: 258.052294784256\n",
      "Cluster 9 Diff in wss value: 226.24787874759386\n"
     ]
    }
   ],
   "source": [
    "for index, rate in enumerate(wss):\n",
    "    if index == 0:\n",
    "        print(\"Cluster \" + str(index) + \" Diff in wss value: Not Applicable\")\n",
    "    else:\n",
    "        print(\"Cluster \" + str(index) + \" Diff in wss value: \" + str(wss[index - 1] - wss[index]))"
   ]
  },
  {
   "cell_type": "code",
   "execution_count": 37,
   "id": "75537b92",
   "metadata": {},
   "outputs": [
    {
     "data": {
      "image/png": "[encoded data removed]",
      "text/plain": [
       "<Figure size 432x288 with 1 Axes>"
      ]
     },
     "metadata": {
      "needs_background": "light"
     },
     "output_type": "display_data"
    }
   ],
   "source": [
    "plt.title('Elbow Method')\n",
    "plt.xlabel('WSS Score')\n",
    "plt.plot(range(1,11), wss)\n",
    "plt.show()"
   ]
  },
  {
   "cell_type": "code",
   "execution_count": 38,
   "id": "c112408e",
   "metadata": {},
   "outputs": [],
   "source": [
    "k_means = KMeans(n_clusters = 2)\n",
    "k_means.fit(scaled_df)\n",
    "k_means_labels = k_means.labels_"
   ]
  },
  {
   "cell_type": "markdown",
   "id": "8ba4ac41",
   "metadata": {},
   "source": [
    "* Finding number of clusters for Agglomerative model"
   ]
  },
  {
   "cell_type": "code",
   "execution_count": 39,
   "id": "89a8027f",
   "metadata": {
    "scrolled": true
   },
   "outputs": [
    {
     "data": {
      "image/png": "[encoded data removed]",
      "text/plain": [
       "<Figure size 432x288 with 1 Axes>"
      ]
     },
     "metadata": {
      "needs_background": "light"
     },
     "output_type": "display_data"
    }
   ],
   "source": [
    "wardlink = linkage(scaled_df, method = 'ward')\n",
    "dend = dendrogram(wardlink)"
   ]
  },
  {
   "cell_type": "code",
   "execution_count": 43,
   "id": "97954c5d",
   "metadata": {},
   "outputs": [
    {
     "data": {
      "text/plain": [
       "array([1, 1, 2, ..., 2, 1, 1], dtype=int32)"
      ]
     },
     "execution_count": 43,
     "metadata": {},
     "output_type": "execute_result"
    }
   ],
   "source": [
    "agglo_clusters = fcluster(wardlink, 3, criterion='maxclust')\n",
    "agglo_clusters"
   ]
  },
  {
   "cell_type": "markdown",
   "id": "3d56a0e5",
   "metadata": {},
   "source": [
    "* Estimating the bandwidth and running the Mean-Shift model"
   ]
  },
  {
   "cell_type": "code",
   "execution_count": 44,
   "id": "6eb15ab0",
   "metadata": {},
   "outputs": [
    {
     "data": {
      "text/plain": [
       "197.5955459070833"
      ]
     },
     "execution_count": 44,
     "metadata": {},
     "output_type": "execute_result"
    }
   ],
   "source": [
    "bandwidth = estimate_bandwidth(new_df, quantile=0.2)\n",
    "bandwidth"
   ]
  },
  {
   "cell_type": "code",
   "execution_count": 45,
   "id": "5d141621",
   "metadata": {},
   "outputs": [
    {
     "data": {
      "text/plain": [
       "array([ 0,  1,  2,  3,  4,  5,  6,  7,  8,  9, 10, 11, 12, 13],\n",
       "      dtype=int64)"
      ]
     },
     "execution_count": 45,
     "metadata": {},
     "output_type": "execute_result"
    }
   ],
   "source": [
    "ms = MeanShift(bandwidth = bandwidth)\n",
    "ms.fit(new_df)\n",
    "ms_labels = ms.labels_\n",
    "np.unique(ms.labels_)"
   ]
  },
  {
   "cell_type": "markdown",
   "id": "c65aab4d",
   "metadata": {},
   "source": [
    "* Finding the epsilon and minsamples for DBSCAN\n",
    "- For minsamples we are going to follow rule of thumb which says to have to the minsample >= no of features + 1\n",
    "- For finding the epsilon value we are going to K-Nearest neighbours method"
   ]
  },
  {
   "cell_type": "code",
   "execution_count": 51,
   "id": "e729f65c",
   "metadata": {},
   "outputs": [],
   "source": [
    "neighbors = NearestNeighbors(n_neighbors = 5)\n",
    "neighbors_fit = neighbors.fit(new_df)\n",
    "unsortedDistances, indices = neighbors_fit.kneighbors(new_df)"
   ]
  },
  {
   "cell_type": "code",
   "execution_count": 52,
   "id": "bf67e6df",
   "metadata": {},
   "outputs": [
    {
     "data": {
      "text/plain": [
       "[<matplotlib.lines.Line2D at 0x19a3dde2340>]"
      ]
     },
     "execution_count": 52,
     "metadata": {},
     "output_type": "execute_result"
    },
    {
     "data": {
      "image/png": "[encoded data removed]",
      "text/plain": [
       "<Figure size 432x288 with 1 Axes>"
      ]
     },
     "metadata": {
      "needs_background": "light"
     },
     "output_type": "display_data"
    }
   ],
   "source": [
    "distances = np.sort(unsortedDistances, axis=0)\n",
    "distance = distances[:,1]\n",
    "plt.title(\"K-Nearest neighbours distance plot\")\n",
    "plt.ylabel('Potential EPS value')\n",
    "plt.plot(distance)"
   ]
  },
  {
   "cell_type": "code",
   "execution_count": 53,
   "id": "3f15edf2",
   "metadata": {},
   "outputs": [
    {
     "data": {
      "image/png": "[encoded data removed]",
      "text/plain": [
       "<Figure size 432x288 with 1 Axes>"
      ]
     },
     "metadata": {
      "needs_background": "light"
     },
     "output_type": "display_data"
    }
   ],
   "source": [
    "# Zooming the picture to find the eps value\n",
    "plt.xlim([0, 4000])\n",
    "plt.ylim([0, 100])\n",
    "plt.plot(distance)\n",
    "plt.show()"
   ]
  },
  {
   "cell_type": "markdown",
   "id": "a82939b6",
   "metadata": {},
   "source": [
    "- eps value is found to be 22."
   ]
  },
  {
   "cell_type": "code",
   "execution_count": 59,
   "id": "0be5f624",
   "metadata": {},
   "outputs": [
    {
     "data": {
      "text/plain": [
       "array([-1,  0,  1,  2,  3,  4,  5,  6,  7,  8,  9, 10, 11, 12, 13, 14, 15,\n",
       "       16], dtype=int64)"
      ]
     },
     "execution_count": 59,
     "metadata": {},
     "output_type": "execute_result"
    }
   ],
   "source": [
    "dbscan = DBSCAN(eps=22, min_samples=5)\n",
    "dblabels = dbscan.fit_predict(new_df)\n",
    "np.unique(dblabels)"
   ]
  },
  {
   "cell_type": "markdown",
   "id": "d5ed96a4",
   "metadata": {},
   "source": [
    "#### Analysis"
   ]
  },
  {
   "cell_type": "code",
   "execution_count": 57,
   "id": "03ae902d",
   "metadata": {},
   "outputs": [
    {
     "name": "stdout",
     "output_type": "stream",
     "text": [
      "K-Means Silhouette_score\n",
      "0.3142263317501192\n"
     ]
    }
   ],
   "source": [
    "print(\"K-Means Silhouette_score\")\n",
    "print(silhouette_score(new_df, k_means_labels))"
   ]
  },
  {
   "cell_type": "code",
   "execution_count": 58,
   "id": "902feaf4",
   "metadata": {},
   "outputs": [
    {
     "name": "stdout",
     "output_type": "stream",
     "text": [
      "* Finding number of clusters for Agglomerative model Silhouette_score\n",
      "-0.0656965098933261\n"
     ]
    }
   ],
   "source": [
    "print(\"* Finding number of clusters for Agglomerative model Silhouette_score\")\n",
    "print(silhouette_score(new_df, agglo_clusters))"
   ]
  },
  {
   "cell_type": "code",
   "execution_count": 60,
   "id": "c333aad8",
   "metadata": {},
   "outputs": [
    {
     "name": "stdout",
     "output_type": "stream",
     "text": [
      "Mean Shift Silhouette_score\n",
      "0.7682485865625035\n"
     ]
    }
   ],
   "source": [
    "print(\"Mean Shift Silhouette_score\")\n",
    "print(silhouette_score(new_df, ms_labels))"
   ]
  },
  {
   "cell_type": "code",
   "execution_count": 61,
   "id": "9d7f9393",
   "metadata": {
    "scrolled": true
   },
   "outputs": [
    {
     "name": "stdout",
     "output_type": "stream",
     "text": [
      "DBSCAN Silhouette_score\n",
      "0.2238630362656037\n"
     ]
    }
   ],
   "source": [
    "print(\"DBSCAN Silhouette_score\")\n",
    "print(silhouette_score(new_df, dblabels))"
   ]
  },
  {
   "cell_type": "markdown",
   "id": "b5329064",
   "metadata": {},
   "source": [
    "- Silhouette_score is one of the metrics for data analysis and calculates score only better for k-means. DBSCAN and Mean shift produce better outputs when considered with real world scenario."
   ]
  },
  {
   "cell_type": "markdown",
   "id": "e6faf8f4",
   "metadata": {},
   "source": [
    "### We have seen how the Mean Shift and DBSCAN have given good results and better segements for customer segmentation. To know more about the result and anlysis of the algorithms look into the paper."
   ]
  },
  {
   "cell_type": "markdown",
   "id": "47f0ac0f",
   "metadata": {},
   "source": [
    "# Thank you !!"
   ]
  }
 ],
 "metadata": {
  "kernelspec": {
   "display_name": "Python 3",
   "language": "python",
   "name": "python3"
  },
  "language_info": {
   "codemirror_mode": {
    "name": "ipython",
    "version": 3
   },
   "file_extension": ".py",
   "mimetype": "text/x-python",
   "name": "python",
   "nbconvert_exporter": "python",
   "pygments_lexer": "ipython3",
   "version": "3.8.8"
  }
 },
 "nbformat": 4,
 "nbformat_minor": 5
}
